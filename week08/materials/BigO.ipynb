{
 "cells": [
  {
   "cell_type": "markdown",
   "metadata": {},
   "source": [
    "# Big O"
   ]
  },
  {
   "cell_type": "markdown",
   "metadata": {},
   "source": [
    "https://www.tutorialspoint.com/python_data_structure/python_big_o_notation.htm   \n",
    "https://www.bigocheatsheet.com"
   ]
  },
  {
   "cell_type": "markdown",
   "metadata": {},
   "source": [
    "## Definition:\n",
    "    * O is equal to time\n",
    "    * N is equal to the length of the input"
   ]
  },
  {
   "cell_type": "markdown",
   "metadata": {},
   "source": [
    "## important rules of Big O"
   ]
  },
  {
   "cell_type": "markdown",
   "metadata": {},
   "source": [
    "### Different steps gets added  \n",
    "\n",
    "O(a+b)"
   ]
  },
  {
   "cell_type": "code",
   "execution_count": 7,
   "metadata": {},
   "outputs": [],
   "source": [
    "def something():\n",
    "    # dostep1() # O(a)\n",
    "    # dostep2() # O(b)\n",
    "    pass\n",
    "\n",
    "# equevalent to O(a+b)  "
   ]
  },
  {
   "cell_type": "markdown",
   "metadata": {},
   "source": [
    "### Drop constants"
   ]
  },
  {
   "cell_type": "markdown",
   "metadata": {},
   "source": [
    "The 2 functions do the same thing.  \n",
    "It is often tempting to describe the first one as **O(2N)** and the last as **O(N)**.  \n",
    "You always **drop constants** so both is denoted as **O(N)**.  \n",
    "Never write O(2N) or O(4N), just O(N)."
   ]
  },
  {
   "cell_type": "code",
   "execution_count": 14,
   "metadata": {},
   "outputs": [],
   "source": [
    "# version 1\n",
    "def min_max(l):\n",
    "    max = 0\n",
    "    for i in l:\n",
    "        if i > max:\n",
    "            max = i\n",
    "    min = max\n",
    "    for i in l:\n",
    "        if i < min:\n",
    "            min = i\n",
    "    return min, max     "
   ]
  },
  {
   "cell_type": "code",
   "execution_count": 15,
   "metadata": {},
   "outputs": [
    {
     "data": {
      "text/plain": [
       "(-44, 77)"
      ]
     },
     "execution_count": 15,
     "metadata": {},
     "output_type": "execute_result"
    }
   ],
   "source": [
    "min_max([1, 2, 3, -10, 77, -44])"
   ]
  },
  {
   "cell_type": "code",
   "execution_count": 16,
   "metadata": {},
   "outputs": [],
   "source": [
    "# version 2\n",
    "def min_max(l):\n",
    "    min, max = 1000, 0\n",
    "    for i in l:\n",
    "        if i > max:\n",
    "            max = i \n",
    "        if i < min:\n",
    "            min = i\n",
    "    return min, max     "
   ]
  },
  {
   "cell_type": "code",
   "execution_count": 17,
   "metadata": {},
   "outputs": [
    {
     "data": {
      "text/plain": [
       "(-44, 77)"
      ]
     },
     "execution_count": 17,
     "metadata": {},
     "output_type": "execute_result"
    }
   ],
   "source": [
    "min_max([1, 2, 3, -10, 77, -44])"
   ]
  },
  {
   "cell_type": "markdown",
   "metadata": {},
   "source": [
    "### Different inputs => different variables (to represent them)  \n",
    "Here its tempting to think that we have a O($N^2$), but since we have 2 different lists, they can not both corresponds to N.   \n",
    "**instead we have a O(a*b) solution**. where **a** is list 1 and **b** list 2."
   ]
  },
  {
   "cell_type": "code",
   "execution_count": 20,
   "metadata": {},
   "outputs": [],
   "source": [
    "def collected_list(x, y):\n",
    "    l = []\n",
    "    for i in x:\n",
    "        for j in y:\n",
    "            l.append((i,j))\n",
    "    return l"
   ]
  },
  {
   "cell_type": "code",
   "execution_count": 23,
   "metadata": {},
   "outputs": [
    {
     "data": {
      "text/plain": [
       "[('s', 'black'), ('s', 'blue'), ('m', 'black'), ('m', 'blue')]"
      ]
     },
     "execution_count": 23,
     "metadata": {},
     "output_type": "execute_result"
    }
   ],
   "source": [
    "collected_list(['s','m'], ['black', 'blue'])"
   ]
  },
  {
   "cell_type": "markdown",
   "metadata": {},
   "source": [
    "### Drop non-dominant terms\n",
    "The first loop is a O(N) and the second loop is a O($N^2$) algorithm.  \n",
    "The dominat term here is O($N^2$). This is the one that is important if the size of the list increases.  \n",
    "In this case this rule will make us drop the O(N) part and denote it all as a **O($N^2$) algorithm**.  "
   ]
  },
  {
   "cell_type": "code",
   "execution_count": 24,
   "metadata": {},
   "outputs": [],
   "source": [
    "def why_would_i_do_this(l):\n",
    "    max = 0\n",
    "    for i in l:\n",
    "        if i > max:\n",
    "            max = i \n",
    "    print(i)\n",
    "    for i in l:\n",
    "        for j in l:\n",
    "            print(i, j)"
   ]
  },
  {
   "cell_type": "code",
   "execution_count": 26,
   "metadata": {},
   "outputs": [
    {
     "name": "stdout",
     "output_type": "stream",
     "text": [
      "2\n",
      "1 1\n",
      "1 2\n",
      "2 1\n",
      "2 2\n"
     ]
    }
   ],
   "source": [
    "why_would_i_do_this([1, 2])"
   ]
  },
  {
   "cell_type": "code",
   "execution_count": null,
   "metadata": {},
   "outputs": [],
   "source": []
  }
 ],
 "metadata": {
  "kernelspec": {
   "display_name": "Python 3",
   "language": "python",
   "name": "python3"
  },
  "language_info": {
   "codemirror_mode": {
    "name": "ipython",
    "version": 3
   },
   "file_extension": ".py",
   "mimetype": "text/x-python",
   "name": "python",
   "nbconvert_exporter": "python",
   "pygments_lexer": "ipython3",
   "version": "3.7.6"
  },
  "toc": {
   "base_numbering": 1,
   "nav_menu": {},
   "number_sections": true,
   "sideBar": true,
   "skip_h1_title": true,
   "title_cell": "Table of Contents",
   "title_sidebar": "Contents",
   "toc_cell": false,
   "toc_position": {},
   "toc_section_display": true,
   "toc_window_display": false
  }
 },
 "nbformat": 4,
 "nbformat_minor": 4
}
