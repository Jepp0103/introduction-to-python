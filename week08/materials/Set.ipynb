{
 "cells": [
  {
   "cell_type": "markdown",
   "metadata": {
    "toc": true
   },
   "source": [
    "<h1>Set<span class=\"tocSkip\"></span></h1>\n",
    "<div class=\"toc\"><ul class=\"toc-item\"><li><span><a href=\"#Declaring-a-set\" data-toc-modified-id=\"Declaring-a-set-1\"><span class=\"toc-item-num\">1&nbsp;&nbsp;</span>Declaring a set</a></span><ul class=\"toc-item\"><li><span><a href=\"#Method-one\" data-toc-modified-id=\"Method-one-1.1\"><span class=\"toc-item-num\">1.1&nbsp;&nbsp;</span>Method one</a></span></li><li><span><a href=\"#Method-two\" data-toc-modified-id=\"Method-two-1.2\"><span class=\"toc-item-num\">1.2&nbsp;&nbsp;</span>Method two</a></span></li></ul></li><li><span><a href=\"#Modifying-a-Set\" data-toc-modified-id=\"Modifying-a-Set-2\"><span class=\"toc-item-num\">2&nbsp;&nbsp;</span>Modifying a Set</a></span><ul class=\"toc-item\"><li><span><a href=\"#Getting-an-element-from-a-set\" data-toc-modified-id=\"Getting-an-element-from-a-set-2.1\"><span class=\"toc-item-num\">2.1&nbsp;&nbsp;</span>Getting an element from a set</a></span></li><li><span><a href=\"#Adding-elements\" data-toc-modified-id=\"Adding-elements-2.2\"><span class=\"toc-item-num\">2.2&nbsp;&nbsp;</span>Adding elements</a></span></li><li><span><a href=\"#Removing-an-element\" data-toc-modified-id=\"Removing-an-element-2.3\"><span class=\"toc-item-num\">2.3&nbsp;&nbsp;</span>Removing an element</a></span></li></ul></li><li><span><a href=\"#Set-&amp;-Built-in-Functions\" data-toc-modified-id=\"Set-&amp;-Built-in-Functions-3\"><span class=\"toc-item-num\">3&nbsp;&nbsp;</span>Set &amp; Built-in Functions</a></span></li><li><span><a href=\"#Set-theory\" data-toc-modified-id=\"Set-theory-4\"><span class=\"toc-item-num\">4&nbsp;&nbsp;</span>Set theory</a></span><ul class=\"toc-item\"><li><span><a href=\"#Union-(Join-Two-Sets)\" data-toc-modified-id=\"Union-(Join-Two-Sets)-4.1\"><span class=\"toc-item-num\">4.1&nbsp;&nbsp;</span>Union (Join Two Sets)</a></span></li><li><span><a href=\"#intersection\" data-toc-modified-id=\"intersection-4.2\"><span class=\"toc-item-num\">4.2&nbsp;&nbsp;</span>intersection</a></span></li><li><span><a href=\"#Difference\" data-toc-modified-id=\"Difference-4.3\"><span class=\"toc-item-num\">4.3&nbsp;&nbsp;</span>Difference</a></span></li><li><span><a href=\"#Symmetric-Difference\" data-toc-modified-id=\"Symmetric-Difference-4.4\"><span class=\"toc-item-num\">4.4&nbsp;&nbsp;</span>Symmetric Difference</a></span></li><li><span><a href=\"#disjoint\" data-toc-modified-id=\"disjoint-4.5\"><span class=\"toc-item-num\">4.5&nbsp;&nbsp;</span>disjoint</a></span></li><li><span><a href=\"#Subset\" data-toc-modified-id=\"Subset-4.6\"><span class=\"toc-item-num\">4.6&nbsp;&nbsp;</span>Subset</a></span><ul class=\"toc-item\"><li><span><a href=\"#A-proper-subset\" data-toc-modified-id=\"A-proper-subset-4.6.1\"><span class=\"toc-item-num\">4.6.1&nbsp;&nbsp;</span>A proper subset</a></span></li></ul></li><li><span><a href=\"#Superset\" data-toc-modified-id=\"Superset-4.7\"><span class=\"toc-item-num\">4.7&nbsp;&nbsp;</span>Superset</a></span></li></ul></li><li><span><a href=\"#Exercise\" data-toc-modified-id=\"Exercise-5\"><span class=\"toc-item-num\">5&nbsp;&nbsp;</span>Exercise</a></span></li><li><span><a href=\"#Real-world-examples\" data-toc-modified-id=\"Real-world-examples-6\"><span class=\"toc-item-num\">6&nbsp;&nbsp;</span>Real world examples</a></span></li></ul></div>"
   ]
  },
  {
   "cell_type": "markdown",
   "metadata": {},
   "source": [
    "![](img/venn_diagram.jpg)"
   ]
  },
  {
   "cell_type": "markdown",
   "metadata": {},
   "source": [
    "Sets are a collection of unique elements.  \n",
    "It could be seen as a \"key only\" dictionary.   \n",
    "The elements have to be unique. \n",
    "Sets are unordered. Sets are mutable, but the elements in the set are imutable (hashable).    \n",
    "Sets have hashed values, which makes them fast when using the methods connected to the set."
   ]
  },
  {
   "cell_type": "markdown",
   "metadata": {},
   "source": [
    "## Declaring a set"
   ]
  },
  {
   "cell_type": "markdown",
   "metadata": {},
   "source": [
    "### Method one"
   ]
  },
  {
   "cell_type": "code",
   "execution_count": 52,
   "metadata": {},
   "outputs": [],
   "source": [
    "s = {'one', 'two', 'three'}"
   ]
  },
  {
   "cell_type": "markdown",
   "metadata": {},
   "source": [
    "### Method two"
   ]
  },
  {
   "cell_type": "code",
   "execution_count": 53,
   "metadata": {},
   "outputs": [],
   "source": [
    "s = set()"
   ]
  },
  {
   "cell_type": "code",
   "execution_count": 54,
   "metadata": {},
   "outputs": [
    {
     "data": {
      "text/plain": [
       "{1, 2, 3, 4}"
      ]
     },
     "execution_count": 54,
     "metadata": {},
     "output_type": "execute_result"
    }
   ],
   "source": [
    "s = set([1, 2, 3, 4])\n",
    "s"
   ]
  },
  {
   "cell_type": "markdown",
   "metadata": {},
   "source": [
    "## Modifying a Set"
   ]
  },
  {
   "cell_type": "markdown",
   "metadata": {},
   "source": [
    "### Getting an element from a set"
   ]
  },
  {
   "cell_type": "markdown",
   "metadata": {},
   "source": [
    "Sets does not support indexing or slicing, so you can not use the square brackets to get an element.  \n",
    "You could loop through it and get each element. Another way would be to cast it to a list e.g"
   ]
  },
  {
   "cell_type": "code",
   "execution_count": 55,
   "metadata": {},
   "outputs": [
    {
     "data": {
      "text/plain": [
       "2"
      ]
     },
     "execution_count": 55,
     "metadata": {},
     "output_type": "execute_result"
    }
   ],
   "source": [
    "list(s)[1]"
   ]
  },
  {
   "cell_type": "markdown",
   "metadata": {},
   "source": [
    "### Adding elements"
   ]
  },
  {
   "cell_type": "code",
   "execution_count": 58,
   "metadata": {},
   "outputs": [
    {
     "data": {
      "text/plain": [
       "{2, 3, 4, 13}"
      ]
     },
     "execution_count": 58,
     "metadata": {},
     "output_type": "execute_result"
    }
   ],
   "source": [
    "s.add(13)\n",
    "s"
   ]
  },
  {
   "cell_type": "markdown",
   "metadata": {},
   "source": [
    "### Removing an element"
   ]
  },
  {
   "cell_type": "code",
   "execution_count": 59,
   "metadata": {},
   "outputs": [
    {
     "data": {
      "text/plain": [
       "{3, 4, 13}"
      ]
     },
     "execution_count": 59,
     "metadata": {},
     "output_type": "execute_result"
    }
   ],
   "source": [
    "# s.update(2) or\n",
    "s.remove(2)\n",
    "s"
   ]
  },
  {
   "cell_type": "markdown",
   "metadata": {},
   "source": [
    "## Set & Built-in Functions"
   ]
  },
  {
   "cell_type": "raw",
   "metadata": {},
   "source": [
    "A number of built-in functions create or process sets.\n",
    "\n",
    "len( object ) → integer\n",
    "    Return the number of items of a set.\n",
    "    \n",
    "max( set ) → value\n",
    "    With a set, return its largest item\n",
    "\n",
    "min( set ) → value\n",
    "    With a set, return its smallest item."
   ]
  },
  {
   "cell_type": "markdown",
   "metadata": {},
   "source": [
    "## Set theory\n",
    "(Danish : mængde)\n",
    "\n",
    "Set Operations include **Set Union**, **Set Intersection**, **Set Difference**, **Complement of Set**, and **Cartesian Product.**  \n",
    "Most, though not quite all, set operations in Python can be performed in two different ways: by **operator** or **by method**."
   ]
  },
  {
   "cell_type": "code",
   "execution_count": 63,
   "metadata": {},
   "outputs": [
    {
     "data": {
      "text/plain": [
       "{'a', 'e', 'i', 'o', 'u', 'y'}"
      ]
     },
     "execution_count": 63,
     "metadata": {},
     "output_type": "execute_result"
    }
   ],
   "source": [
    "en_vowels = set(['a', 'e', 'i', 'o', 'u', 'y'])\n",
    "en_vowels"
   ]
  },
  {
   "cell_type": "code",
   "execution_count": 64,
   "metadata": {},
   "outputs": [
    {
     "data": {
      "text/plain": [
       "{'a', 'e', 'i', 'o', 'u', 'y', 'å', 'æ', 'ø'}"
      ]
     },
     "execution_count": 64,
     "metadata": {},
     "output_type": "execute_result"
    }
   ],
   "source": [
    "da_vowels = set(['a', 'e', 'i', 'o', 'u', 'y', 'æ' ,'ø', 'å'])\n",
    "da_vowels"
   ]
  },
  {
   "cell_type": "markdown",
   "metadata": {},
   "source": [
    "### Union (Join Two Sets)"
   ]
  },
  {
   "cell_type": "markdown",
   "metadata": {},
   "source": [
    "![](img/p2c6-union.png)"
   ]
  },
  {
   "cell_type": "code",
   "execution_count": 122,
   "metadata": {},
   "outputs": [
    {
     "data": {
      "text/plain": [
       "{'a', 'e', 'i', 'o', 'u', 'y', 'å', 'æ', 'ø'}"
      ]
     },
     "execution_count": 122,
     "metadata": {},
     "output_type": "execute_result"
    }
   ],
   "source": [
    "# da_vowels.union(en_vowels) or\n",
    "da_vowels | en_vowels"
   ]
  },
  {
   "cell_type": "code",
   "execution_count": null,
   "metadata": {},
   "outputs": [],
   "source": [
    "# sql: full outer join"
   ]
  },
  {
   "cell_type": "markdown",
   "metadata": {},
   "source": [
    "### intersection"
   ]
  },
  {
   "cell_type": "markdown",
   "metadata": {},
   "source": [
    "![](img/p2c6-intersection.png)"
   ]
  },
  {
   "cell_type": "code",
   "execution_count": 123,
   "metadata": {},
   "outputs": [
    {
     "data": {
      "text/plain": [
       "{'a', 'e', 'i', 'o', 'u', 'y'}"
      ]
     },
     "execution_count": 123,
     "metadata": {},
     "output_type": "execute_result"
    }
   ],
   "source": [
    "# da_vowels.intersection(en_vowels) or\n",
    "da_vowels & en_vowels"
   ]
  },
  {
   "cell_type": "code",
   "execution_count": 139,
   "metadata": {},
   "outputs": [],
   "source": [
    "# sql: inner join"
   ]
  },
  {
   "cell_type": "markdown",
   "metadata": {},
   "source": [
    "### Difference"
   ]
  },
  {
   "cell_type": "markdown",
   "metadata": {},
   "source": [
    "![](img/p2c6-difference.png)"
   ]
  },
  {
   "cell_type": "code",
   "execution_count": 124,
   "metadata": {},
   "outputs": [
    {
     "data": {
      "text/plain": [
       "{'å', 'æ', 'ø'}"
      ]
     },
     "execution_count": 124,
     "metadata": {},
     "output_type": "execute_result"
    }
   ],
   "source": [
    "# da_vowels.difference(en_vowels) or\n",
    "da_vowels - en_vowels"
   ]
  },
  {
   "cell_type": "code",
   "execution_count": null,
   "metadata": {},
   "outputs": [],
   "source": [
    "# sql: "
   ]
  },
  {
   "cell_type": "markdown",
   "metadata": {},
   "source": [
    "### Symmetric Difference"
   ]
  },
  {
   "cell_type": "markdown",
   "metadata": {},
   "source": [
    "![](img/p2c6-symmdiff.png)"
   ]
  },
  {
   "cell_type": "code",
   "execution_count": 125,
   "metadata": {},
   "outputs": [
    {
     "data": {
      "text/plain": [
       "{'å', 'æ', 'ø'}"
      ]
     },
     "execution_count": 125,
     "metadata": {},
     "output_type": "execute_result"
    }
   ],
   "source": [
    "# da_vowels.symmetric_difference(en_vowels) or\n",
    "da_vowels ^ en_vowels"
   ]
  },
  {
   "cell_type": "markdown",
   "metadata": {},
   "source": [
    "### disjoint\n",
    "returns true if no elements in commen"
   ]
  },
  {
   "cell_type": "markdown",
   "metadata": {},
   "source": [
    "![](img/p2c6-intersection.png)"
   ]
  },
  {
   "cell_type": "code",
   "execution_count": 133,
   "metadata": {},
   "outputs": [
    {
     "data": {
      "text/plain": [
       "False"
      ]
     },
     "execution_count": 133,
     "metadata": {},
     "output_type": "execute_result"
    }
   ],
   "source": [
    "da_vowels.isdisjoint(en_vowels)\n",
    "# no operator for isdijoint"
   ]
  },
  {
   "cell_type": "markdown",
   "metadata": {},
   "source": [
    "### Subset\n",
    "The issubset() method returns True if all items in the set exists in the specified set, otherwise it retuns False.   \n",
    "![](img/subset.png)"
   ]
  },
  {
   "cell_type": "code",
   "execution_count": 136,
   "metadata": {},
   "outputs": [
    {
     "data": {
      "text/plain": [
       "True"
      ]
     },
     "execution_count": 136,
     "metadata": {},
     "output_type": "execute_result"
    }
   ],
   "source": [
    "# en_vowels.issubset(da_vowels) or\n",
    "en_vowels <= da_vowels"
   ]
  },
  {
   "cell_type": "markdown",
   "metadata": {},
   "source": [
    "####  A proper subset \n",
    "is the same as a subset, except that the sets can’t be identical. "
   ]
  },
  {
   "cell_type": "code",
   "execution_count": 135,
   "metadata": {},
   "outputs": [
    {
     "data": {
      "text/plain": [
       "True"
      ]
     },
     "execution_count": 135,
     "metadata": {},
     "output_type": "execute_result"
    }
   ],
   "source": [
    "en_vowels < da_vowels"
   ]
  },
  {
   "cell_type": "markdown",
   "metadata": {},
   "source": [
    "### Superset\n",
    "![](img/superset.png)"
   ]
  },
  {
   "cell_type": "code",
   "execution_count": 138,
   "metadata": {},
   "outputs": [
    {
     "data": {
      "text/plain": [
       "True"
      ]
     },
     "execution_count": 138,
     "metadata": {},
     "output_type": "execute_result"
    }
   ],
   "source": [
    "# da_vowels.issuperset(en_vowels) or\n",
    "da_vowels > en_vowels"
   ]
  },
  {
   "cell_type": "markdown",
   "metadata": {},
   "source": [
    "______\n",
    "## Exercise"
   ]
  },
  {
   "cell_type": "markdown",
   "metadata": {},
   "source": [
    "Model an organisation of employees, management and board of directors in 3 sets.   \n",
    "1. who in the board of directors is not an employee?\n",
    "2. who in the board of directors is also an employee?\n",
    "3. how many of the management is also member of the board?\n",
    "4. All members of the managent also an employee\n",
    "5. All members of the management also in the board? \n",
    "6. Who is an employee, member of the management, and a member of the board?\n",
    "7. Who of the employee is neither a memeber or the board or management?"
   ]
  },
  {
   "cell_type": "code",
   "execution_count": 114,
   "metadata": {},
   "outputs": [],
   "source": [
    "b = {'Benny', 'Hans', 'Tine', 'Mille', 'Torben', 'Troels', 'Søren'}\n",
    "m = {'Tine', 'Trunte', 'Rane'}\n",
    "e = {'Niels','Anna','Tine', 'Ole', 'Trunte', 'Bent', 'Rane' , 'Allan', 'Stine', 'Claus', 'James', 'Lars'}"
   ]
  },
  {
   "cell_type": "markdown",
   "metadata": {},
   "source": [
    "____\n",
    "## Real world examples\n",
    "Where is sets used. "
   ]
  },
  {
   "cell_type": "markdown",
   "metadata": {},
   "source": [
    "* https://www.w3schools.com/sql/sql_join.asp"
   ]
  },
  {
   "cell_type": "code",
   "execution_count": null,
   "metadata": {},
   "outputs": [],
   "source": []
  }
 ],
 "metadata": {
  "kernelspec": {
   "display_name": "Python 3",
   "language": "python",
   "name": "python3"
  },
  "language_info": {
   "codemirror_mode": {
    "name": "ipython",
    "version": 3
   },
   "file_extension": ".py",
   "mimetype": "text/x-python",
   "name": "python",
   "nbconvert_exporter": "python",
   "pygments_lexer": "ipython3",
   "version": "3.7.6"
  },
  "toc": {
   "base_numbering": 1,
   "nav_menu": {},
   "number_sections": true,
   "sideBar": true,
   "skip_h1_title": true,
   "title_cell": "Set",
   "title_sidebar": "Contents",
   "toc_cell": true,
   "toc_position": {},
   "toc_section_display": true,
   "toc_window_display": false
  }
 },
 "nbformat": 4,
 "nbformat_minor": 2
}
