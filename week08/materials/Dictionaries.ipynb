{
 "cells": [
  {
   "cell_type": "markdown",
   "metadata": {
    "toc": true
   },
   "source": [
    "<h1>Dictionaries<span class=\"tocSkip\"></span></h1>\n",
    "<div class=\"toc\"><ul class=\"toc-item\"><li><span><a href=\"#Declare\" data-toc-modified-id=\"Declare-1\"><span class=\"toc-item-num\">1&nbsp;&nbsp;</span>Declare</a></span></li><li><span><a href=\"#Adding-elements\" data-toc-modified-id=\"Adding-elements-2\"><span class=\"toc-item-num\">2&nbsp;&nbsp;</span>Adding elements</a></span><ul class=\"toc-item\"><li><span><a href=\"#adding-same-key-will-overwrite-it---key-has-to-be-unique\" data-toc-modified-id=\"adding-same-key-will-overwrite-it---key-has-to-be-unique-2.1\"><span class=\"toc-item-num\">2.1&nbsp;&nbsp;</span>adding same key will overwrite it - key has to be unique</a></span></li></ul></li><li><span><a href=\"#deleting-elements\" data-toc-modified-id=\"deleting-elements-3\"><span class=\"toc-item-num\">3&nbsp;&nbsp;</span>deleting elements</a></span></li><li><span><a href=\"#Two-minutes-exercise:\" data-toc-modified-id=\"Two-minutes-exercise:-4\"><span class=\"toc-item-num\">4&nbsp;&nbsp;</span>Two minutes exercise:</a></span></li><li><span><a href=\"#Looping---Keys,-Values-and-items\" data-toc-modified-id=\"Looping---Keys,-Values-and-items-5\"><span class=\"toc-item-num\">5&nbsp;&nbsp;</span>Looping - Keys, Values and items</a></span><ul class=\"toc-item\"><li><span><a href=\"#keys\" data-toc-modified-id=\"keys-5.1\"><span class=\"toc-item-num\">5.1&nbsp;&nbsp;</span>keys</a></span></li><li><span><a href=\"#values\" data-toc-modified-id=\"values-5.2\"><span class=\"toc-item-num\">5.2&nbsp;&nbsp;</span>values</a></span></li><li><span><a href=\"#items\" data-toc-modified-id=\"items-5.3\"><span class=\"toc-item-num\">5.3&nbsp;&nbsp;</span>items</a></span></li></ul></li><li><span><a href=\"#Sorted\" data-toc-modified-id=\"Sorted-6\"><span class=\"toc-item-num\">6&nbsp;&nbsp;</span>Sorted</a></span><ul class=\"toc-item\"><li><span><a href=\"#keys\" data-toc-modified-id=\"keys-6.1\"><span class=\"toc-item-num\">6.1&nbsp;&nbsp;</span>keys</a></span></li><li><span><a href=\"#values\" data-toc-modified-id=\"values-6.2\"><span class=\"toc-item-num\">6.2&nbsp;&nbsp;</span>values</a></span></li><li><span><a href=\"#items-(as-tuples)\" data-toc-modified-id=\"items-(as-tuples)-6.3\"><span class=\"toc-item-num\">6.3&nbsp;&nbsp;</span>items (as tuples)</a></span><ul class=\"toc-item\"><li><span><a href=\"#sort-on-values\" data-toc-modified-id=\"sort-on-values-6.3.1\"><span class=\"toc-item-num\">6.3.1&nbsp;&nbsp;</span>sort on values</a></span></li></ul></li></ul></li><li><span><a href=\"#Hash-Table\" data-toc-modified-id=\"Hash-Table-7\"><span class=\"toc-item-num\">7&nbsp;&nbsp;</span>Hash Table</a></span></li><li><span><a href=\"#Real-world-examples\" data-toc-modified-id=\"Real-world-examples-8\"><span class=\"toc-item-num\">8&nbsp;&nbsp;</span>Real world examples</a></span></li></ul></div>"
   ]
  },
  {
   "cell_type": "markdown",
   "metadata": {},
   "source": [
    "---\n",
    "**Dictionaries are datastructures build of key, value pairs.**"
   ]
  },
  {
   "cell_type": "raw",
   "metadata": {},
   "source": [
    "{ key : value , key2 : value }"
   ]
  },
  {
   "cell_type": "markdown",
   "metadata": {},
   "source": [
    "* Keys can be of any imutable type, and can be different imutable types within one dict. Keys have to be unique.  \n",
    "* Values can be any type, even dicts.   \n",
    "* Dictionaries are mutable. \n",
    "* You can declare dicts, add and delete elements in constant time, O(1) "
   ]
  },
  {
   "cell_type": "markdown",
   "metadata": {},
   "source": [
    "## Declare\n",
    "You can declare a dictionery like this."
   ]
  },
  {
   "cell_type": "code",
   "execution_count": 12,
   "metadata": {},
   "outputs": [],
   "source": [
    "results = {\n",
    "    '22-10-2019': 108, \n",
    "    '10-10-2019': 324, \n",
    "    '23-10-2019': 1080 }"
   ]
  },
  {
   "cell_type": "markdown",
   "metadata": {},
   "source": [
    "## Adding elements\n",
    "You add an element by specifying the key in [..] and the value after = sign"
   ]
  },
  {
   "cell_type": "code",
   "execution_count": 13,
   "metadata": {},
   "outputs": [],
   "source": [
    "results['31-12-2018'] = '2160'"
   ]
  },
  {
   "cell_type": "code",
   "execution_count": 14,
   "metadata": {},
   "outputs": [
    {
     "data": {
      "text/plain": [
       "{'22-10-2019': 108,\n",
       " '10-10-2019': 324,\n",
       " '23-10-2019': 1080,\n",
       " '31-12-2018': '2160'}"
      ]
     },
     "execution_count": 14,
     "metadata": {},
     "output_type": "execute_result"
    }
   ],
   "source": [
    "results"
   ]
  },
  {
   "cell_type": "markdown",
   "metadata": {},
   "source": [
    "### adding same key will overwrite it - key has to be unique"
   ]
  },
  {
   "cell_type": "code",
   "execution_count": 15,
   "metadata": {},
   "outputs": [],
   "source": [
    "results['31-12-2018'] = '216000'"
   ]
  },
  {
   "cell_type": "code",
   "execution_count": 16,
   "metadata": {},
   "outputs": [
    {
     "data": {
      "text/plain": [
       "{'22-10-2019': 108,\n",
       " '10-10-2019': 324,\n",
       " '23-10-2019': 1080,\n",
       " '31-12-2018': '216000'}"
      ]
     },
     "execution_count": 16,
     "metadata": {},
     "output_type": "execute_result"
    }
   ],
   "source": [
    "results"
   ]
  },
  {
   "cell_type": "markdown",
   "metadata": {},
   "source": [
    "## deleting elements"
   ]
  },
  {
   "cell_type": "code",
   "execution_count": 17,
   "metadata": {},
   "outputs": [],
   "source": [
    "del(results['31-12-2018'])"
   ]
  },
  {
   "cell_type": "code",
   "execution_count": 18,
   "metadata": {},
   "outputs": [
    {
     "data": {
      "text/plain": [
       "{'22-10-2019': 108, '10-10-2019': 324, '23-10-2019': 1080}"
      ]
     },
     "execution_count": 18,
     "metadata": {},
     "output_type": "execute_result"
    }
   ],
   "source": [
    "results"
   ]
  },
  {
   "cell_type": "markdown",
   "metadata": {},
   "source": [
    "## Two minutes exercise:\n",
    "\n",
    "* Which of the following could be a valid dictionary key:\n",
    "    * ('foo', 'bar')\n",
    "    * ['foo', 'bar']\n",
    "    * (3+2j)\n",
    "    * 'foo'\n",
    "    * len\n",
    "    * dict(foo=1, bar=2)\n"
   ]
  },
  {
   "cell_type": "markdown",
   "metadata": {},
   "source": [
    "## Looping - Keys, Values and items"
   ]
  },
  {
   "cell_type": "markdown",
   "metadata": {},
   "source": [
    "### keys"
   ]
  },
  {
   "cell_type": "code",
   "execution_count": 19,
   "metadata": {},
   "outputs": [
    {
     "name": "stdout",
     "output_type": "stream",
     "text": [
      "22-10-2019\n",
      "10-10-2019\n",
      "23-10-2019\n"
     ]
    }
   ],
   "source": [
    "for k in results.keys():\n",
    "    print(k)"
   ]
  },
  {
   "cell_type": "markdown",
   "metadata": {},
   "source": [
    "### values"
   ]
  },
  {
   "cell_type": "code",
   "execution_count": 20,
   "metadata": {},
   "outputs": [
    {
     "name": "stdout",
     "output_type": "stream",
     "text": [
      "108\n",
      "324\n",
      "1080\n"
     ]
    }
   ],
   "source": [
    "for v in results.values():\n",
    "    print(v)"
   ]
  },
  {
   "cell_type": "markdown",
   "metadata": {},
   "source": [
    "### items"
   ]
  },
  {
   "cell_type": "code",
   "execution_count": 21,
   "metadata": {},
   "outputs": [
    {
     "name": "stdout",
     "output_type": "stream",
     "text": [
      "22-10-2019 108\n",
      "10-10-2019 324\n",
      "23-10-2019 1080\n"
     ]
    }
   ],
   "source": [
    "for k, v in results.items():\n",
    "    print(k,v)"
   ]
  },
  {
   "cell_type": "markdown",
   "metadata": {},
   "source": [
    "## Sorted"
   ]
  },
  {
   "cell_type": "markdown",
   "metadata": {},
   "source": [
    "### keys"
   ]
  },
  {
   "cell_type": "code",
   "execution_count": 22,
   "metadata": {},
   "outputs": [
    {
     "data": {
      "text/plain": [
       "['10-10-2019', '22-10-2019', '23-10-2019']"
      ]
     },
     "execution_count": 22,
     "metadata": {},
     "output_type": "execute_result"
    }
   ],
   "source": [
    "sorted(results)"
   ]
  },
  {
   "cell_type": "code",
   "execution_count": 23,
   "metadata": {},
   "outputs": [
    {
     "data": {
      "text/plain": [
       "['10-10-2019', '22-10-2019', '23-10-2019']"
      ]
     },
     "execution_count": 23,
     "metadata": {},
     "output_type": "execute_result"
    }
   ],
   "source": [
    "sorted(results.keys())"
   ]
  },
  {
   "cell_type": "markdown",
   "metadata": {},
   "source": [
    "### values"
   ]
  },
  {
   "cell_type": "code",
   "execution_count": 24,
   "metadata": {},
   "outputs": [
    {
     "data": {
      "text/plain": [
       "[108, 324, 1080]"
      ]
     },
     "execution_count": 24,
     "metadata": {},
     "output_type": "execute_result"
    }
   ],
   "source": [
    "sorted(results.values())"
   ]
  },
  {
   "cell_type": "markdown",
   "metadata": {},
   "source": [
    "### items (as tuples)"
   ]
  },
  {
   "cell_type": "code",
   "execution_count": 25,
   "metadata": {},
   "outputs": [
    {
     "data": {
      "text/plain": [
       "[('10-10-2019', 324), ('22-10-2019', 108), ('23-10-2019', 1080)]"
      ]
     },
     "execution_count": 25,
     "metadata": {},
     "output_type": "execute_result"
    }
   ],
   "source": [
    "sorted(results.items())"
   ]
  },
  {
   "cell_type": "markdown",
   "metadata": {},
   "source": [
    "#### sort on values"
   ]
  },
  {
   "cell_type": "code",
   "execution_count": 26,
   "metadata": {},
   "outputs": [
    {
     "data": {
      "text/plain": [
       "[('22-10-2019', 108), ('10-10-2019', 324), ('23-10-2019', 1080)]"
      ]
     },
     "execution_count": 26,
     "metadata": {},
     "output_type": "execute_result"
    }
   ],
   "source": [
    "# define a function the returns the second part of the tuple\n",
    "def s(x):\n",
    "    return x[1]\n",
    "\n",
    "# use this function as key parameter\n",
    "sorted(results.items(), key=s)"
   ]
  },
  {
   "cell_type": "code",
   "execution_count": 27,
   "metadata": {},
   "outputs": [
    {
     "data": {
      "text/plain": [
       "[('23-10-2019', 1080), ('10-10-2019', 324), ('22-10-2019', 108)]"
      ]
     },
     "execution_count": 27,
     "metadata": {},
     "output_type": "execute_result"
    }
   ],
   "source": [
    "sorted(results.items(), key=s, reverse=True)"
   ]
  },
  {
   "cell_type": "markdown",
   "metadata": {},
   "source": [
    "## Hash Table"
   ]
  },
  {
   "cell_type": "markdown",
   "metadata": {},
   "source": [
    "![](img/hash_intro.png)"
   ]
  },
  {
   "cell_type": "markdown",
   "metadata": {},
   "source": [
    "## Real world examples\n",
    "Where is dictionaries used. "
   ]
  },
  {
   "cell_type": "markdown",
   "metadata": {},
   "source": [
    "> * Google\n",
    "> * Shezam\n",
    "> * image recoqnision google"
   ]
  },
  {
   "cell_type": "code",
   "execution_count": null,
   "metadata": {},
   "outputs": [],
   "source": []
  }
 ],
 "metadata": {
  "kernelspec": {
   "display_name": "Python 3",
   "language": "python",
   "name": "python3"
  },
  "language_info": {
   "codemirror_mode": {
    "name": "ipython",
    "version": 3
   },
   "file_extension": ".py",
   "mimetype": "text/x-python",
   "name": "python",
   "nbconvert_exporter": "python",
   "pygments_lexer": "ipython3",
   "version": "3.7.6"
  },
  "toc": {
   "base_numbering": 1,
   "nav_menu": {},
   "number_sections": true,
   "sideBar": true,
   "skip_h1_title": true,
   "title_cell": "Dictionaries",
   "title_sidebar": "Contents",
   "toc_cell": true,
   "toc_position": {
    "height": "calc(100% - 180px)",
    "left": "10px",
    "top": "150px",
    "width": "407px"
   },
   "toc_section_display": true,
   "toc_window_display": false
  }
 },
 "nbformat": 4,
 "nbformat_minor": 2
}
